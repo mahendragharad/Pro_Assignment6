{
  "nbformat": 4,
  "nbformat_minor": 0,
  "metadata": {
    "colab": {
      "provenance": []
    },
    "kernelspec": {
      "name": "python3",
      "display_name": "Python 3"
    },
    "language_info": {
      "name": "python"
    }
  },
  "cells": [
    {
      "cell_type": "markdown",
      "source": [
        "**1. Write a Python Program to Display Fibonacci Sequence Using Recursion?**"
      ],
      "metadata": {
        "id": "xuHeFzUVInI3"
      }
    },
    {
      "cell_type": "code",
      "execution_count": 9,
      "metadata": {
        "id": "u2XENf6aImLW"
      },
      "outputs": [],
      "source": [
        "def fibonacci(n) :\n",
        "  if n == 0 :\n",
        "    return 0 \n",
        "  elif n == 1 :\n",
        "    return 1 \n",
        "  elif n > 0 :\n",
        "    return fibonacci(n-1) + fibonacci(n-2)\n"
      ]
    },
    {
      "cell_type": "code",
      "source": [
        "for i in range ( 0 , 10 ) :\n",
        "  print( fibonacci(i))"
      ],
      "metadata": {
        "colab": {
          "base_uri": "https://localhost:8080/"
        },
        "id": "D5TG9M0XLhGY",
        "outputId": "88479635-22d9-474a-d9f3-73281e35b4de"
      },
      "execution_count": 13,
      "outputs": [
        {
          "output_type": "stream",
          "name": "stdout",
          "text": [
            "0\n",
            "1\n",
            "1\n",
            "2\n",
            "3\n",
            "5\n",
            "8\n",
            "13\n",
            "21\n",
            "34\n"
          ]
        }
      ]
    },
    {
      "cell_type": "markdown",
      "source": [
        "\n",
        "\n",
        "---\n",
        "\n"
      ],
      "metadata": {
        "id": "zfNmckQrN2Fe"
      }
    },
    {
      "cell_type": "markdown",
      "source": [
        "**2. Write a Python Program to Find Factorial of Number Using Recursion?**"
      ],
      "metadata": {
        "id": "5S58EUvhIuVR"
      }
    },
    {
      "cell_type": "code",
      "source": [
        "def factorial(n) :\n",
        "  if n == 0 or n == 1 :\n",
        "    return 1\n",
        "  else :\n",
        "    return n * factorial(n-1)"
      ],
      "metadata": {
        "id": "cwKm6UUWI0B8"
      },
      "execution_count": 4,
      "outputs": []
    },
    {
      "cell_type": "code",
      "source": [
        "factorial(5)"
      ],
      "metadata": {
        "colab": {
          "base_uri": "https://localhost:8080/"
        },
        "id": "8MHJ0C9BJa62",
        "outputId": "538f8295-cd79-4560-f6f9-c3db4743447b"
      },
      "execution_count": 5,
      "outputs": [
        {
          "output_type": "execute_result",
          "data": {
            "text/plain": [
              "120"
            ]
          },
          "metadata": {},
          "execution_count": 5
        }
      ]
    },
    {
      "cell_type": "markdown",
      "source": [
        "\n",
        "\n",
        "---\n",
        "\n"
      ],
      "metadata": {
        "id": "gL87z5XbN4Ox"
      }
    },
    {
      "cell_type": "markdown",
      "source": [
        "**3. Write a Python Program to calculate your Body Mass Index?**"
      ],
      "metadata": {
        "id": "JFruuDIxI0zp"
      }
    },
    {
      "cell_type": "code",
      "source": [
        "def BMI( height , weight ) :\n",
        "    h_in_meter = height / 100 \n",
        "    sq_height = h_in_meter*h_in_meter\n",
        "    body_m_i = weight / sq_height\n",
        "    return \"body mass index\" , body_m_i\n"
      ],
      "metadata": {
        "id": "-ccEZObXI5Iy"
      },
      "execution_count": 14,
      "outputs": []
    },
    {
      "cell_type": "code",
      "source": [
        "BMI( 152 , 60 )"
      ],
      "metadata": {
        "colab": {
          "base_uri": "https://localhost:8080/"
        },
        "id": "y9GktVFqcDUm",
        "outputId": "b39ff1cb-de2f-40ec-a3b3-03b2e9115227"
      },
      "execution_count": 15,
      "outputs": [
        {
          "output_type": "execute_result",
          "data": {
            "text/plain": [
              "('body mass index', 25.969529085872576)"
            ]
          },
          "metadata": {},
          "execution_count": 15
        }
      ]
    },
    {
      "cell_type": "markdown",
      "source": [
        "\n",
        "\n",
        "---\n",
        "\n"
      ],
      "metadata": {
        "id": "xL4k-wJXjna3"
      }
    },
    {
      "cell_type": "markdown",
      "source": [
        "**4. Write a Python Program to calculate the natural logarithm of any number?**"
      ],
      "metadata": {
        "id": "AhKb_KJ0I5sE"
      }
    },
    {
      "cell_type": "code",
      "source": [
        "import math\n",
        "\n",
        "def calculate_natural_log(x):\n",
        "    result = math.log(x)\n",
        "    return result\n"
      ],
      "metadata": {
        "id": "kdMI-BbvI-Co"
      },
      "execution_count": 16,
      "outputs": []
    },
    {
      "cell_type": "code",
      "source": [
        "calculate_natural_log(10)"
      ],
      "metadata": {
        "colab": {
          "base_uri": "https://localhost:8080/"
        },
        "id": "V_VF1k9cfTMN",
        "outputId": "eab578ee-653e-4d16-9d3b-52fc251852b2"
      },
      "execution_count": 17,
      "outputs": [
        {
          "output_type": "execute_result",
          "data": {
            "text/plain": [
              "2.302585092994046"
            ]
          },
          "metadata": {},
          "execution_count": 17
        }
      ]
    },
    {
      "cell_type": "markdown",
      "source": [
        "\n",
        "\n",
        "---\n",
        "\n"
      ],
      "metadata": {
        "id": "97IgyzKxjjiS"
      }
    },
    {
      "cell_type": "markdown",
      "source": [
        "**5. Write a Python Program for cube sum of first n natural numbers?**"
      ],
      "metadata": {
        "id": "ViyGZl5LI-g0"
      }
    },
    {
      "cell_type": "code",
      "source": [
        "cube_sum = 0 \n",
        "for i in range ( 1 , 11 ) :\n",
        "  cube_sum += i**3\n",
        "print(\"cube sum of first n natural number\" , cube_sum)"
      ],
      "metadata": {
        "colab": {
          "base_uri": "https://localhost:8080/"
        },
        "id": "Qtw6bmG4giV0",
        "outputId": "6a3f898e-22c1-4c80-a659-e23b4dafb0a4"
      },
      "execution_count": 42,
      "outputs": [
        {
          "output_type": "stream",
          "name": "stdout",
          "text": [
            "cube sum of first n natural number 3025\n"
          ]
        }
      ]
    },
    {
      "cell_type": "markdown",
      "source": [
        "\n",
        "\n",
        "---\n",
        "\n"
      ],
      "metadata": {
        "id": "PkSyKyzLjl2j"
      }
    }
  ]
}